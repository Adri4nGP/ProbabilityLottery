{
 "cells": [
  {
   "cell_type": "markdown",
   "metadata": {},
   "source": [
    "#  Lottery Addiction - Calculating Probability\n",
    "We focus on the 6/49 lottery and build functions that enable users to answer questions like:\n",
    "\n",
    "- What is the probability of winning the big prize with a single ticket?\n",
    "- What is the probability of winning the big prize if we play 40 different tickets (or any other number)?\n",
    "- What is the probability of having at least five (or four, or three, or two) winning numbers on a single ticket?"
   ]
  },
  {
   "cell_type": "markdown",
   "metadata": {},
   "source": [
    "In the 6/49 lottery, six numbers are drawn from a set of 49 numbers that range from 1 to 49. The drawing is done without replacement, which means once a number is drawn, it's not put back in the set.\n",
    "\n",
    "This means that we can calculate the number of permutations with the formula:\n",
    "\n",
    "$_{49}P_6 = 49 \\cdot 48 \\cdot 47 \\cdot 46 \\cdot 45 \\cdot 44 = \\cfrac{49!}{(49 - 6)!}$ \n",
    "\n",
    "Since the order of the numbers is not relevant we must count only the number of compinations:\n",
    "\n",
    "$_{49}C_6 = \\cfrac{_{49}P_6 }{\\text{Number of permutations the same 6 unique numbers}} = \\cfrac{49!}{6!(49 - 6)!} = \\cfrac{n!}{k!(n - k)!} = \\binom{n}{k}$"
   ]
  },
  {
   "cell_type": "markdown",
   "metadata": {},
   "source": [
    "Creating a function to calculate the factorial:"
   ]
  },
  {
   "cell_type": "code",
   "execution_count": 1,
   "metadata": {},
   "outputs": [],
   "source": [
    "def factorial(number):\n",
    "    if(number == 1):\n",
    "        return 1\n",
    "    else:\n",
    "        result = number*factorial(number-1)\n",
    "    return result\n"
   ]
  },
  {
   "cell_type": "markdown",
   "metadata": {},
   "source": [
    "Creating a fucntion using the former to calculate the combinations:"
   ]
  },
  {
   "cell_type": "code",
   "execution_count": 147,
   "metadata": {},
   "outputs": [],
   "source": [
    "def combinations(n, k):\n",
    "    return int(factorial(n) / (factorial(k) * factorial(n - k)))"
   ]
  },
  {
   "cell_type": "markdown",
   "metadata": {},
   "source": [
    "Now we create a function tht takes in any list of numbers and outputs the probability of winning with that combination. This  is intended to let people with no training in probability theroy to easily grasp the chances of winning the lottery with any ticket."
   ]
  },
  {
   "cell_type": "code",
   "execution_count": 109,
   "metadata": {},
   "outputs": [],
   "source": [
    "def One_Ticket_Probability(numbers):\n",
    "    different6 = list(set(numbers))\n",
    "    if len(different6) < 6:\n",
    "        print('Invalid List of Numbers')\n",
    "    else:\n",
    "        n_comb = combinations(49, 6)\n",
    "        probability = 1 / n_comb *100\n",
    "        message = 'The probability of winning the lottery with the numbers {} is {:.9f}%.\\nYou have 1 in {:,} chances to win'.format(numbers, probability, n_comb)\n",
    "        print(message)"
   ]
  },
  {
   "cell_type": "code",
   "execution_count": 110,
   "metadata": {},
   "outputs": [
    {
     "name": "stdout",
     "output_type": "stream",
     "text": [
      "The probability of winning the lottery with the numbers [1, 2, 3, 4, 5, 6] is 0.000007151%.\n",
      "You have 1 in 13,983,816 chances to win\n"
     ]
    }
   ],
   "source": [
    "One_Ticket_Probability([1,2,3,4,5,6])"
   ]
  },
  {
   "cell_type": "markdown",
   "metadata": {},
   "source": [
    "# Probabilities with real world data\n",
    "\n",
    "Now we are going to study the historic of the lottery of Canada 1982 - 2018 to see if we could have won with our numbers so far.\n",
    "\n",
    "The dataset can be downloaded [here](https://www.kaggle.com/datascienceai/lottery-dataset)"
   ]
  },
  {
   "cell_type": "code",
   "execution_count": 111,
   "metadata": {},
   "outputs": [],
   "source": [
    "import pandas as pd\n",
    "lottery = pd.read_csv('649.csv')"
   ]
  },
  {
   "cell_type": "code",
   "execution_count": 112,
   "metadata": {},
   "outputs": [
    {
     "name": "stdout",
     "output_type": "stream",
     "text": [
      "columns: 11\n",
      "rows: 3665\n"
     ]
    }
   ],
   "source": [
    "print('columns: {}\\nrows: {}'.format(len(lottery.columns), len(lottery)))"
   ]
  },
  {
   "cell_type": "code",
   "execution_count": 113,
   "metadata": {},
   "outputs": [
    {
     "data": {
      "text/html": [
       "<div>\n",
       "<style scoped>\n",
       "    .dataframe tbody tr th:only-of-type {\n",
       "        vertical-align: middle;\n",
       "    }\n",
       "\n",
       "    .dataframe tbody tr th {\n",
       "        vertical-align: top;\n",
       "    }\n",
       "\n",
       "    .dataframe thead th {\n",
       "        text-align: right;\n",
       "    }\n",
       "</style>\n",
       "<table border=\"1\" class=\"dataframe\">\n",
       "  <thead>\n",
       "    <tr style=\"text-align: right;\">\n",
       "      <th></th>\n",
       "      <th>PRODUCT</th>\n",
       "      <th>DRAW NUMBER</th>\n",
       "      <th>SEQUENCE NUMBER</th>\n",
       "      <th>DRAW DATE</th>\n",
       "      <th>NUMBER DRAWN 1</th>\n",
       "      <th>NUMBER DRAWN 2</th>\n",
       "      <th>NUMBER DRAWN 3</th>\n",
       "      <th>NUMBER DRAWN 4</th>\n",
       "      <th>NUMBER DRAWN 5</th>\n",
       "      <th>NUMBER DRAWN 6</th>\n",
       "      <th>BONUS NUMBER</th>\n",
       "    </tr>\n",
       "  </thead>\n",
       "  <tbody>\n",
       "    <tr>\n",
       "      <th>0</th>\n",
       "      <td>649</td>\n",
       "      <td>1</td>\n",
       "      <td>0</td>\n",
       "      <td>6/12/1982</td>\n",
       "      <td>3</td>\n",
       "      <td>11</td>\n",
       "      <td>12</td>\n",
       "      <td>14</td>\n",
       "      <td>41</td>\n",
       "      <td>43</td>\n",
       "      <td>13</td>\n",
       "    </tr>\n",
       "    <tr>\n",
       "      <th>1</th>\n",
       "      <td>649</td>\n",
       "      <td>2</td>\n",
       "      <td>0</td>\n",
       "      <td>6/19/1982</td>\n",
       "      <td>8</td>\n",
       "      <td>33</td>\n",
       "      <td>36</td>\n",
       "      <td>37</td>\n",
       "      <td>39</td>\n",
       "      <td>41</td>\n",
       "      <td>9</td>\n",
       "    </tr>\n",
       "    <tr>\n",
       "      <th>2</th>\n",
       "      <td>649</td>\n",
       "      <td>3</td>\n",
       "      <td>0</td>\n",
       "      <td>6/26/1982</td>\n",
       "      <td>1</td>\n",
       "      <td>6</td>\n",
       "      <td>23</td>\n",
       "      <td>24</td>\n",
       "      <td>27</td>\n",
       "      <td>39</td>\n",
       "      <td>34</td>\n",
       "    </tr>\n",
       "  </tbody>\n",
       "</table>\n",
       "</div>"
      ],
      "text/plain": [
       "   PRODUCT  DRAW NUMBER  SEQUENCE NUMBER  DRAW DATE  NUMBER DRAWN 1  \\\n",
       "0      649            1                0  6/12/1982               3   \n",
       "1      649            2                0  6/19/1982               8   \n",
       "2      649            3                0  6/26/1982               1   \n",
       "\n",
       "   NUMBER DRAWN 2  NUMBER DRAWN 3  NUMBER DRAWN 4  NUMBER DRAWN 5  \\\n",
       "0              11              12              14              41   \n",
       "1              33              36              37              39   \n",
       "2               6              23              24              27   \n",
       "\n",
       "   NUMBER DRAWN 6  BONUS NUMBER  \n",
       "0              43            13  \n",
       "1              41             9  \n",
       "2              39            34  "
      ]
     },
     "execution_count": 113,
     "metadata": {},
     "output_type": "execute_result"
    }
   ],
   "source": [
    "lottery.head(3)"
   ]
  },
  {
   "cell_type": "code",
   "execution_count": 114,
   "metadata": {},
   "outputs": [
    {
     "data": {
      "text/html": [
       "<div>\n",
       "<style scoped>\n",
       "    .dataframe tbody tr th:only-of-type {\n",
       "        vertical-align: middle;\n",
       "    }\n",
       "\n",
       "    .dataframe tbody tr th {\n",
       "        vertical-align: top;\n",
       "    }\n",
       "\n",
       "    .dataframe thead th {\n",
       "        text-align: right;\n",
       "    }\n",
       "</style>\n",
       "<table border=\"1\" class=\"dataframe\">\n",
       "  <thead>\n",
       "    <tr style=\"text-align: right;\">\n",
       "      <th></th>\n",
       "      <th>PRODUCT</th>\n",
       "      <th>DRAW NUMBER</th>\n",
       "      <th>SEQUENCE NUMBER</th>\n",
       "      <th>DRAW DATE</th>\n",
       "      <th>NUMBER DRAWN 1</th>\n",
       "      <th>NUMBER DRAWN 2</th>\n",
       "      <th>NUMBER DRAWN 3</th>\n",
       "      <th>NUMBER DRAWN 4</th>\n",
       "      <th>NUMBER DRAWN 5</th>\n",
       "      <th>NUMBER DRAWN 6</th>\n",
       "      <th>BONUS NUMBER</th>\n",
       "    </tr>\n",
       "  </thead>\n",
       "  <tbody>\n",
       "    <tr>\n",
       "      <th>3662</th>\n",
       "      <td>649</td>\n",
       "      <td>3589</td>\n",
       "      <td>0</td>\n",
       "      <td>6/13/2018</td>\n",
       "      <td>6</td>\n",
       "      <td>22</td>\n",
       "      <td>24</td>\n",
       "      <td>31</td>\n",
       "      <td>32</td>\n",
       "      <td>34</td>\n",
       "      <td>16</td>\n",
       "    </tr>\n",
       "    <tr>\n",
       "      <th>3663</th>\n",
       "      <td>649</td>\n",
       "      <td>3590</td>\n",
       "      <td>0</td>\n",
       "      <td>6/16/2018</td>\n",
       "      <td>2</td>\n",
       "      <td>15</td>\n",
       "      <td>21</td>\n",
       "      <td>31</td>\n",
       "      <td>38</td>\n",
       "      <td>49</td>\n",
       "      <td>8</td>\n",
       "    </tr>\n",
       "    <tr>\n",
       "      <th>3664</th>\n",
       "      <td>649</td>\n",
       "      <td>3591</td>\n",
       "      <td>0</td>\n",
       "      <td>6/20/2018</td>\n",
       "      <td>14</td>\n",
       "      <td>24</td>\n",
       "      <td>31</td>\n",
       "      <td>35</td>\n",
       "      <td>37</td>\n",
       "      <td>48</td>\n",
       "      <td>17</td>\n",
       "    </tr>\n",
       "  </tbody>\n",
       "</table>\n",
       "</div>"
      ],
      "text/plain": [
       "      PRODUCT  DRAW NUMBER  SEQUENCE NUMBER  DRAW DATE  NUMBER DRAWN 1  \\\n",
       "3662      649         3589                0  6/13/2018               6   \n",
       "3663      649         3590                0  6/16/2018               2   \n",
       "3664      649         3591                0  6/20/2018              14   \n",
       "\n",
       "      NUMBER DRAWN 2  NUMBER DRAWN 3  NUMBER DRAWN 4  NUMBER DRAWN 5  \\\n",
       "3662              22              24              31              32   \n",
       "3663              15              21              31              38   \n",
       "3664              24              31              35              37   \n",
       "\n",
       "      NUMBER DRAWN 6  BONUS NUMBER  \n",
       "3662              34            16  \n",
       "3663              49             8  \n",
       "3664              48            17  "
      ]
     },
     "execution_count": 114,
     "metadata": {},
     "output_type": "execute_result"
    }
   ],
   "source": [
    "lottery.tail(3)"
   ]
  },
  {
   "cell_type": "markdown",
   "metadata": {},
   "source": [
    "We define a fucntion that extracts the drawings of each lottery event and puts them in a set. "
   ]
  },
  {
   "cell_type": "code",
   "execution_count": 115,
   "metadata": {},
   "outputs": [],
   "source": [
    "def extract_numbers(row):\n",
    "    return set(row[4:10]) "
   ]
  },
  {
   "cell_type": "code",
   "execution_count": 116,
   "metadata": {},
   "outputs": [
    {
     "data": {
      "text/plain": [
       "{3, 11, 12, 14, 41, 43}"
      ]
     },
     "execution_count": 116,
     "metadata": {},
     "output_type": "execute_result"
    }
   ],
   "source": [
    "extract_numbers(lottery.iloc[0])"
   ]
  },
  {
   "cell_type": "markdown",
   "metadata": {},
   "source": [
    "We use DataFrame.apply() to extract all the results of the lotteries from 1982 to 2018 into a list"
   ]
  },
  {
   "cell_type": "code",
   "execution_count": 117,
   "metadata": {},
   "outputs": [],
   "source": [
    "winning_numbers = lottery.apply(extract_numbers, axis = 1)"
   ]
  },
  {
   "cell_type": "code",
   "execution_count": 118,
   "metadata": {},
   "outputs": [
    {
     "data": {
      "text/plain": [
       "0    {3, 41, 11, 12, 43, 14}\n",
       "1    {33, 36, 37, 39, 8, 41}\n",
       "2     {1, 6, 39, 23, 24, 27}\n",
       "3     {3, 9, 10, 43, 13, 20}\n",
       "4    {34, 5, 14, 47, 21, 31}\n",
       "dtype: object"
      ]
     },
     "execution_count": 118,
     "metadata": {},
     "output_type": "execute_result"
    }
   ],
   "source": [
    "winning_numbers.head()"
   ]
  },
  {
   "cell_type": "markdown",
   "metadata": {},
   "source": [
    "Now we create a function to check the ocurrence of the user's number in the history"
   ]
  },
  {
   "cell_type": "code",
   "execution_count": 119,
   "metadata": {},
   "outputs": [],
   "source": [
    "def check_historical_occurrence(user_numbers, history):\n",
    "    times_won = winning_numbers[winning_numbers == set(user_numbers)]\n",
    "    print('You would have won {} times with that number'.format(len(times_won)))\n",
    "    One_Ticket_Probability(user_numbers)"
   ]
  },
  {
   "cell_type": "code",
   "execution_count": 120,
   "metadata": {},
   "outputs": [
    {
     "name": "stdout",
     "output_type": "stream",
     "text": [
      "You would have won 1 times with that number\n",
      "The probability of winning the lottery with the numbers [3, 41, 11, 12, 43, 14] is 0.000007151%.\n",
      "You have 1 in 13,983,816 chances to win\n"
     ]
    }
   ],
   "source": [
    "user_n_1 = [3,41,11,12,43,14] # Taken from the first row of the history\n",
    "check_historical_occurrence(user_n_1, winning_numbers)"
   ]
  },
  {
   "cell_type": "code",
   "execution_count": 121,
   "metadata": {},
   "outputs": [
    {
     "name": "stdout",
     "output_type": "stream",
     "text": [
      "You would have won 0 times with that number\n",
      "The probability of winning the lottery with the numbers [3, 41, 21, 12, 43, 14] is 0.000007151%.\n",
      "You have 1 in 13,983,816 chances to win\n"
     ]
    }
   ],
   "source": [
    "user_n_1 = [3,41,21,12,43,14]\n",
    "check_historical_occurrence(user_n_1, winning_numbers)"
   ]
  },
  {
   "cell_type": "code",
   "execution_count": 122,
   "metadata": {},
   "outputs": [
    {
     "name": "stdout",
     "output_type": "stream",
     "text": [
      "You would have won 0 times with that number\n",
      "The probability of winning the lottery with the numbers [8, 1, 14, 12, 43, 13] is 0.000007151%.\n",
      "You have 1 in 13,983,816 chances to win\n"
     ]
    }
   ],
   "source": [
    "user_n_1 = [8,1,14,12,43,13]\n",
    "check_historical_occurrence(user_n_1, winning_numbers)"
   ]
  },
  {
   "cell_type": "markdown",
   "metadata": {},
   "source": [
    "Now we make another function to check the probability of winning with multiple tickets"
   ]
  },
  {
   "cell_type": "code",
   "execution_count": 125,
   "metadata": {},
   "outputs": [],
   "source": [
    "def multi_ticket_probability(number_of_tickets):\n",
    "    n_comb = combinations(49, 6)\n",
    "    probability = number_of_tickets / n_comb *100\n",
    "    message = 'The probability of winning the lottery with {} tickets is {:.9f}%.\\nYou have {} in {:,} chances to win'.format(number_of_tickets, probability,number_of_tickets, n_comb)\n",
    "    print(message)"
   ]
  },
  {
   "cell_type": "code",
   "execution_count": 126,
   "metadata": {},
   "outputs": [
    {
     "name": "stdout",
     "output_type": "stream",
     "text": [
      "The probability of winning the lottery with 1 tickets is 0.000007151%.\n",
      "You have 1 in 13,983,816 chances to win\n",
      "The probability of winning the lottery with 10 tickets is 0.000071511%.\n",
      "You have 10 in 13,983,816 chances to win\n",
      "The probability of winning the lottery with 100 tickets is 0.000715112%.\n",
      "You have 100 in 13,983,816 chances to win\n",
      "The probability of winning the lottery with 10000 tickets is 0.071511238%.\n",
      "You have 10000 in 13,983,816 chances to win\n",
      "The probability of winning the lottery with 1000000 tickets is 7.151123842%.\n",
      "You have 1000000 in 13,983,816 chances to win\n",
      "The probability of winning the lottery with 6991908 tickets is 50.000000000%.\n",
      "You have 6991908 in 13,983,816 chances to win\n",
      "The probability of winning the lottery with 13983816 tickets is 100.000000000%.\n",
      "You have 13983816 in 13,983,816 chances to win\n"
     ]
    }
   ],
   "source": [
    "n_tickets_list = [1, 10, 100, 10000, 1000000, 6991908, 13983816]\n",
    "for number in n_tickets_list:\n",
    "    multi_ticket_probability(number)"
   ]
  },
  {
   "cell_type": "markdown",
   "metadata": {},
   "source": [
    "As there are prices fro having between 2 and 5 numbers in the drawings, we now calculate the probability of winning a secondary price."
   ]
  },
  {
   "cell_type": "markdown",
   "metadata": {},
   "source": [
    "What is the probability of having exactly 5 winning numbers?\n",
    "\n",
    "If the winning 6 numbers are {1,2,3,4,5,6}\n",
    "\n",
    "There are 6 combinations of 5 numbers that have 5 numbers in that set $\\binom{6}{5} = \\frac{6!}{5!(6-5)!} = 6$\n",
    "\n",
    "There are $49 - 6 = 43$ numbers that are not in the winning 6 numbers set. So, $6 \\times 43 = 258$ different combinations of 5 digit coincidences.\n",
    "\n",
    "If there are 13983816 different combinations, the chances are $\\frac{258}{\\binom{49}{6} = 13983816} = 0.00001845$\n",
    "\n"
   ]
  },
  {
   "cell_type": "code",
   "execution_count": 150,
   "metadata": {},
   "outputs": [],
   "source": [
    "def probability_less_6(number_matching):\n",
    "    # combinations of sets of size 'number_matching' in a set of 6 numbers\n",
    "    number_comb_in_6 = combinations(6,number_matching)\n",
    "    # There are 43 numbers that are not in the winning set, so the number of combinations, by the rule of product is\n",
    "    comb_remaining = combinations(43,6 - number_matching)\n",
    "    total_n_combinations = comb_remaining * number_comb_in_6\n",
    "    probability = total_n_combinations/combinations(49,6) * 100\n",
    "    message = 'The probability of having {} matching numbers is {:.9f}%.\\nYou have {} in {:,} chances to win'.format(number_matching, probability,total_n_combinations,combinations(49,6))\n",
    "    print(message)"
   ]
  },
  {
   "cell_type": "code",
   "execution_count": 151,
   "metadata": {},
   "outputs": [
    {
     "name": "stdout",
     "output_type": "stream",
     "text": [
      "The probability of having 5 matching numbers is 0.001844990%.\n",
      "You have 258 in 13,983,816 chances to win\n"
     ]
    }
   ],
   "source": [
    "probability_less_6(5)"
   ]
  },
  {
   "cell_type": "code",
   "execution_count": 152,
   "metadata": {},
   "outputs": [
    {
     "name": "stdout",
     "output_type": "stream",
     "text": [
      "The probability of having 4 matching numbers is 0.096861972%.\n",
      "You have 13545 in 13,983,816 chances to win\n"
     ]
    }
   ],
   "source": [
    "probability_less_6(4)"
   ]
  },
  {
   "cell_type": "code",
   "execution_count": 153,
   "metadata": {},
   "outputs": [
    {
     "name": "stdout",
     "output_type": "stream",
     "text": [
      "The probability of having 3 matching numbers is 1.765040387%.\n",
      "You have 246820 in 13,983,816 chances to win\n"
     ]
    }
   ],
   "source": [
    "probability_less_6(3)"
   ]
  },
  {
   "cell_type": "code",
   "execution_count": 154,
   "metadata": {},
   "outputs": [
    {
     "name": "stdout",
     "output_type": "stream",
     "text": [
      "The probability of having 2 matching numbers is 13.237802900%.\n",
      "You have 1851150 in 13,983,816 chances to win\n"
     ]
    }
   ],
   "source": [
    "probability_less_6(2)"
   ]
  },
  {
   "cell_type": "code",
   "execution_count": 155,
   "metadata": {},
   "outputs": [
    {
     "name": "stdout",
     "output_type": "stream",
     "text": [
      "The probability of having 1 matching numbers is 41.301945048%.\n",
      "You have 5775588 in 13,983,816 chances to win\n"
     ]
    }
   ],
   "source": [
    "probability_less_6(1)"
   ]
  },
  {
   "cell_type": "code",
   "execution_count": null,
   "metadata": {},
   "outputs": [],
   "source": []
  },
  {
   "cell_type": "code",
   "execution_count": null,
   "metadata": {},
   "outputs": [],
   "source": []
  }
 ],
 "metadata": {
  "kernelspec": {
   "display_name": "Python 3",
   "language": "python",
   "name": "python3"
  },
  "language_info": {
   "codemirror_mode": {
    "name": "ipython",
    "version": 3
   },
   "file_extension": ".py",
   "mimetype": "text/x-python",
   "name": "python",
   "nbconvert_exporter": "python",
   "pygments_lexer": "ipython3",
   "version": "3.7.6"
  }
 },
 "nbformat": 4,
 "nbformat_minor": 4
}
